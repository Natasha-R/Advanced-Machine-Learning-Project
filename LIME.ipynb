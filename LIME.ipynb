{
 "cells": [
  {
   "cell_type": "code",
   "execution_count": null,
   "id": "3c517231-2a25-4732-8cf8-4bd00e9396f4",
   "metadata": {},
   "outputs": [],
   "source": [
    "import numpy as np\n",
    "import tensorflow as tf\n",
    "import tensorflow.keras\n",
    "from   tensorflow.keras.applications.imagenet_utils import decode_predictions\n",
    "import skimage.io \n",
    "import skimage.segmentation\n",
    "import copy\n",
    "import sklearn\n",
    "import sklearn.metrics\n",
    "from   sklearn.linear_model import LinearRegression\n",
    "import warnings\n",
    "import pandas as pd"
   ]
  },
  {
   "cell_type": "markdown",
   "id": "b992656a-4ef3-49e1-9749-516c05659542",
   "metadata": {},
   "source": [
    "As with the exercise on Shapley values, I again use the MNIST dataset, so that I can compare the two approaches of Shapley and LIME."
   ]
  },
  {
   "cell_type": "code",
   "execution_count": 34,
   "id": "647da847-6e12-4ad0-8545-f9dbe3f859d9",
   "metadata": {},
   "outputs": [],
   "source": [
    "(x_train, y_train), (x_test, y_test) = tf.keras.datasets.mnist.load_data()\n",
    "x_train = x_train.reshape(60000, 28, 28, 1) / 255\n",
    "x_test = x_test.reshape(10000, 28, 28, 1) / 255"
   ]
  },
  {
   "cell_type": "markdown",
   "id": "7912da38-7ab3-4420-97f5-cda113778cf7",
   "metadata": {},
   "source": [
    "In order to make the comparison fair, I again use the same complex, black-box neural network for the model."
   ]
  },
  {
   "cell_type": "code",
   "execution_count": 35,
   "id": "41a8266d-1501-4719-8bc5-89406724e530",
   "metadata": {},
   "outputs": [
    {
     "name": "stdout",
     "output_type": "stream",
     "text": [
      "Epoch 1/2\n",
      "1875/1875 [==============================] - 246s 129ms/step - loss: 0.1775 - accuracy: 0.9474 - val_loss: 0.0548 - val_accuracy: 0.9816\n",
      "Epoch 2/2\n",
      "1875/1875 [==============================] - 234s 125ms/step - loss: 0.0745 - accuracy: 0.9779 - val_loss: 0.0256 - val_accuracy: 0.9908\n"
     ]
    },
    {
     "data": {
      "text/plain": [
       "<keras.callbacks.History at 0x24d7e0f8460>"
      ]
     },
     "execution_count": 35,
     "metadata": {},
     "output_type": "execute_result"
    }
   ],
   "source": [
    "tf.keras.utils.set_random_seed(42)\n",
    "mnist_model = tf.keras.models.Sequential([\n",
    "    \n",
    "    tf.keras.layers.Conv2D(32, (5,5), padding='same', activation='relu', input_shape=(28,28,1)),\n",
    "    tf.keras.layers.BatchNormalization(),\n",
    "    tf.keras.layers.Conv2D(32, (5,5), padding='same', activation='relu'),\n",
    "    tf.keras.layers.BatchNormalization(),\n",
    "    tf.keras.layers.MaxPool2D(),\n",
    "    tf.keras.layers.Dropout(0.25),\n",
    "    \n",
    "    tf.keras.layers.Conv2D(64, (3,3), padding='same', activation='relu'),\n",
    "    tf.keras.layers.BatchNormalization(),\n",
    "    tf.keras.layers.Conv2D(64, (3,3), padding='same', activation='relu'),\n",
    "    tf.keras.layers.BatchNormalization(),\n",
    "    tf.keras.layers.MaxPool2D(strides=(2,2)),\n",
    "    tf.keras.layers.Dropout(0.25),\n",
    "    \n",
    "    tf.keras.layers.Flatten(),\n",
    "    tf.keras.layers.Dense(512, activation='relu'),\n",
    "    tf.keras.layers.BatchNormalization(),\n",
    "    tf.keras.layers.Dropout(0.25),\n",
    "    \n",
    "    tf.keras.layers.Dense(128, activation='relu'),\n",
    "    tf.keras.layers.BatchNormalization(),\n",
    "    tf.keras.layers.Dropout(0.5),\n",
    "    tf.keras.layers.Dense(10, activation='softmax')\n",
    "])\n",
    "\n",
    "mnist_model.compile(loss='sparse_categorical_crossentropy', optimizer = 'adam', metrics = ['accuracy'])\n",
    "\n",
    "mnist_model.fit(x_train, y_train, epochs=2, batch_size=32, validation_data=(x_test, y_test))"
   ]
  },
  {
   "cell_type": "code",
   "execution_count": 170,
   "id": "6952f8a9-6e78-45e4-b291-087d836a21da",
   "metadata": {},
   "outputs": [],
   "source": [
    "def find_important_segments(img_index, n_segments, n_important_features):\n",
    "    # looking at just a single image\n",
    "    test_image = x_test[img_index]\n",
    "    # segment that image into n_segments number of superpixels\n",
    "    segments = skimage.segmentation.slic(test_image, n_segments=n_segments, compactness=0.1)\n",
    "    num_segments = np.unique(segments).shape[0]\n",
    "    \n",
    "    # plot the segmented boundaries that will each represent one \"feature\" for LIME\n",
    "    fig, axes = plt.subplots(ncols=2, figsize=(10, 10))\n",
    "    axes[0].imshow(skimage.segmentation.mark_boundaries(np.squeeze(test_image), segments, mode=\"subpixel\"))\n",
    "\n",
    "    # we will calculate 500 perturbed images, acting as the \"surrogate\" data points\n",
    "    # each perturbed image will have a different permutation of segments turned on or off\n",
    "    num_perturb = 500\n",
    "    np.random.seed(42)\n",
    "    perturbations = np.random.binomial(1, 0.5, size=(500, num_segments))\n",
    "    def perturb_image(img, perturbation, segments):\n",
    "        active_pixels = np.where(perturbation == 1)[0]\n",
    "        mask = np.zeros(segments.shape)\n",
    "        for active in active_pixels:\n",
    "            mask[segments == active] = 1 \n",
    "        perturbed_image = copy.deepcopy(img)\n",
    "        perturbed_image = perturbed_image*mask[:,:,np.newaxis]\n",
    "        return perturbed_image\n",
    "    perturbed_images = np.asarray([perturb_image(test_image, perturbation, segments) for perturbation in perturbations])\n",
    "    # predict on the complex black-box model\n",
    "    predictions = mnist_model.predict(perturbed_images, verbose=0)\n",
    "\n",
    "    # Each image is represented as a vector. We simply find the vector distance between the perturbed image, and the original image.\n",
    "    # This distance is then inverted using the kernel function, so larger weights are given to more similar perturbed images.\n",
    "    all_segments = np.ones(num_segments)[np.newaxis,:]\n",
    "    distances = sklearn.metrics.pairwise_distances(perturbations, all_segments, metric='cosine').ravel()\n",
    "    kernel_width = 0.25\n",
    "    weights = np.sqrt(np.exp(-(distances**2)/kernel_width**2))\n",
    "\n",
    "    # A linear model is fitted to the local neighbourhood around the original image\n",
    "    # We weight the different samples (perturbed images) by their similarity to the original image\n",
    "    linear_model = LinearRegression()\n",
    "    linear_model.fit(X=perturbations, y=predictions[:, y_test[img_index]], sample_weight=weights);\n",
    "\n",
    "    # We take the top features, e.g. segments, and display only these on the plot.\n",
    "    # These are the segments that were the most important to the prediction.\n",
    "    top_features = np.argsort(linear_model.coef_)[-n_important_features:] \n",
    "    mask = np.zeros(num_segments) \n",
    "    mask[top_features] = True   \n",
    "    axes[1].imshow(perturb_image(test_image, mask, segments), cmap=\"gray\")"
   ]
  },
  {
   "cell_type": "code",
   "execution_count": 178,
   "id": "51c8b7c3-07f2-4605-809e-31f22cbebc3b",
   "metadata": {},
   "outputs": [
    {
     "name": "stderr",
     "output_type": "stream",
     "text": [
      "Clipping input data to the valid range for imshow with RGB data ([0..1] for floats or [0..255] for integers).\n"
     ]
    },
    {
     "data": {
      "image/png": "[encoded data removed]",
      "text/plain": [
       "<Figure size 720x720 with 2 Axes>"
      ]
     },
     "metadata": {
      "needs_background": "light"
     },
     "output_type": "display_data"
    }
   ],
   "source": [
    "find_important_segments(img_index=-1, n_segments=50, n_important_features=2)"
   ]
  },
  {
   "cell_type": "markdown",
   "id": "4c54da06-38f8-49ba-8d90-ca4ffb7eb1fb",
   "metadata": {},
   "source": [
    "For the number 6, the circle on the bottom right was the most important for the prediction of this class."
   ]
  },
  {
   "cell_type": "code",
   "execution_count": 176,
   "id": "5d401521-3418-4ee6-9084-1b16b122914a",
   "metadata": {},
   "outputs": [
    {
     "name": "stderr",
     "output_type": "stream",
     "text": [
      "Clipping input data to the valid range for imshow with RGB data ([0..1] for floats or [0..255] for integers).\n"
     ]
    },
    {
     "data": {
      "image/png": "[encoded data removed]",
      "text/plain": [
       "<Figure size 720x720 with 2 Axes>"
      ]
     },
     "metadata": {
      "needs_background": "light"
     },
     "output_type": "display_data"
    }
   ],
   "source": [
    "find_important_segments(img_index=-2, n_segments=50, n_important_features=1)"
   ]
  },
  {
   "cell_type": "markdown",
   "id": "30a19f6d-75d3-4002-ad06-8600a9358c82",
   "metadata": {},
   "source": [
    "For the 5, the most important segment for prediction is the horizontal line across the top of the number."
   ]
  },
  {
   "cell_type": "code",
   "execution_count": 169,
   "id": "99e54204-f886-4be3-894d-7149b40fb13b",
   "metadata": {},
   "outputs": [
    {
     "name": "stderr",
     "output_type": "stream",
     "text": [
      "Clipping input data to the valid range for imshow with RGB data ([0..1] for floats or [0..255] for integers).\n"
     ]
    },
    {
     "name": "stdout",
     "output_type": "stream",
     "text": [
      "Number of segments: 64\n"
     ]
    },
    {
     "data": {
      "image/png": "[encoded data removed]",
      "text/plain": [
       "<Figure size 720x720 with 2 Axes>"
      ]
     },
     "metadata": {
      "needs_background": "light"
     },
     "output_type": "display_data"
    }
   ],
   "source": [
    "find_important_segments(img_index=-3, n_segments=75, n_important_features=3)"
   ]
  },
  {
   "cell_type": "markdown",
   "id": "ccbf8026-9b4d-4d63-8fd2-e9076d7efc8a",
   "metadata": {},
   "source": [
    "The three most important segments for the prediction of the number 4 are also displayed."
   ]
  },
  {
   "cell_type": "markdown",
   "id": "57bef3c0-ae10-4381-a705-0512885fc64e",
   "metadata": {},
   "source": [
    "For all 3 numbers, it is the criticial white segments that were most important for the prediction of the corresponding class."
   ]
  }
 ],
 "metadata": {
  "kernelspec": {
   "display_name": "Python 3 (ipykernel)",
   "language": "python",
   "name": "python3"
  },
  "language_info": {
   "codemirror_mode": {
    "name": "ipython",
    "version": 3
   },
   "file_extension": ".py",
   "mimetype": "text/x-python",
   "name": "python",
   "nbconvert_exporter": "python",
   "pygments_lexer": "ipython3",
   "version": "3.9.12"
  }
 },
 "nbformat": 4,
 "nbformat_minor": 5
}
