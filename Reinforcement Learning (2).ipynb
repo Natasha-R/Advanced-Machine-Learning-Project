{
 "cells": [
  {
   "cell_type": "code",
   "execution_count": null,
   "id": "148850d4-c790-4efb-8352-b8ec0b95eb6a",
   "metadata": {},
   "outputs": [],
   "source": [
    "import numpy as np\n",
    "import seaborn as sns\n",
    "import pandas as pd\n",
    "import matplotlib.pyplot as plt\n",
    "from matplotlib.colors import LogNorm\n",
    "import random"
   ]
  },
  {
   "cell_type": "markdown",
   "id": "3519d683-63a0-411f-8ea5-de14d3900c45",
   "metadata": {},
   "source": [
    "The following code is adapted from https://github.com/gheisenberg/AML."
   ]
  },
  {
   "cell_type": "markdown",
   "id": "f7196e1c-54b6-45f0-b2e4-35abeee5fca0",
   "metadata": {},
   "source": [
    "### Create the possible states"
   ]
  },
  {
   "cell_type": "markdown",
   "id": "f4bc206b-220c-4967-978d-c490207e1500",
   "metadata": {},
   "source": [
    "Each location name as a string, is encoded as a numeric value. There are 9 different states."
   ]
  },
  {
   "cell_type": "code",
   "execution_count": 2,
   "id": "17b1ef1c-b9c2-4baa-ab50-c5d4a4f8cba1",
   "metadata": {
    "tags": []
   },
   "outputs": [],
   "source": [
    "location_to_state = {\n",
    "    'L0' : 0,\n",
    "    'L1' : 1,\n",
    "    'L2' : 2,\n",
    "    'L3' : 3,\n",
    "    'L4' : 4,\n",
    "    'L5' : 5,\n",
    "    'L6' : 6,\n",
    "    'L7' : 7,\n",
    "    'L8' : 8\n",
    "}\n",
    "\n",
    "state_to_location = dict((state,location) for location, state in location_to_state.items())"
   ]
  },
  {
   "cell_type": "code",
   "execution_count": 3,
   "id": "e5044387-d318-4b79-a7c4-aba21ba27d8a",
   "metadata": {
    "tags": []
   },
   "outputs": [
    {
     "data": {
      "text/plain": [
       "{0: 'L0',\n",
       " 1: 'L1',\n",
       " 2: 'L2',\n",
       " 3: 'L3',\n",
       " 4: 'L4',\n",
       " 5: 'L5',\n",
       " 6: 'L6',\n",
       " 7: 'L7',\n",
       " 8: 'L8'}"
      ]
     },
     "execution_count": 3,
     "metadata": {},
     "output_type": "execute_result"
    }
   ],
   "source": [
    "state_to_location"
   ]
  },
  {
   "cell_type": "markdown",
   "id": "be334255-79f4-4dea-86a0-c561cd881f2e",
   "metadata": {},
   "source": [
    "### Create the actions & rewards"
   ]
  },
  {
   "cell_type": "markdown",
   "id": "7f2c362c-2004-41bf-8b15-93ffc3580066",
   "metadata": {},
   "source": [
    "There are 9 different actions that can be taken, simply corresponding to jumping to that particular state.\n",
    "\n",
    "The rewards array represents a Markov chain like structure, where **a reward is given for particular state/action combinations, and not simply for moving to particular states.**"
   ]
  },
  {
   "cell_type": "code",
   "execution_count": 4,
   "id": "8acee394-1b27-4504-a364-322f53d2168c",
   "metadata": {
    "tags": []
   },
   "outputs": [],
   "source": [
    "actions = [0,1,2,3,4,5,6,7,8]"
   ]
  },
  {
   "cell_type": "code",
   "execution_count": 5,
   "id": "e322bf10-f557-4747-a00a-8e90ab5c4628",
   "metadata": {
    "tags": []
   },
   "outputs": [],
   "source": [
    "rewards = np.array([[0,1,0,0,0,0,0,0,0],\n",
    "                   [1,0,1,0,1,0,0,0,0],\n",
    "                   [0,1,0,0,0,1,0,0,0],\n",
    "                   [0,0,0,0,0,0,1,0,0],\n",
    "                   [0,1,0,0,0,0,0,1,0],\n",
    "                   [0,0,1,0,0,0,0,0,0],\n",
    "                   [0,0,0,1,0,0,0,1,0],\n",
    "                   [0,0,0,0,1,0,1,0,1],\n",
    "                   [0,0,0,0,0,0,0,1,0]])"
   ]
  },
  {
   "cell_type": "markdown",
   "id": "40f68f40-95d2-4930-bd82-15231cea8f0f",
   "metadata": {},
   "source": [
    "e.g. the agent gets a reward of 1, if it takes action 0 at state L2, or if it takes action 3 at state L7."
   ]
  },
  {
   "cell_type": "code",
   "execution_count": 6,
   "id": "1edf8865-df80-437d-b99c-1f8303c7eac3",
   "metadata": {
    "tags": []
   },
   "outputs": [
    {
     "data": {
      "image/png": "[encoded data removed]",
      "text/plain": [
       "<Figure size 432x288 with 2 Axes>"
      ]
     },
     "metadata": {
      "needs_background": "light"
     },
     "output_type": "display_data"
    }
   ],
   "source": [
    "sns.heatmap(pd.DataFrame(rewards, index=location_to_state.keys()), annot=True, linewidth=0.5);"
   ]
  },
  {
   "cell_type": "markdown",
   "id": "6bbc944b-2cd0-4e95-ac77-f9a01d491af7",
   "metadata": {},
   "source": [
    "### Define the remaining hyperparameters"
   ]
  },
  {
   "cell_type": "markdown",
   "id": "37cc6839-da44-432f-81a7-a0f202358a58",
   "metadata": {},
   "source": [
    "The discount factor for the return is gamma.  \n",
    "The learning rate, for updating the q values in the q table, is alpha."
   ]
  },
  {
   "cell_type": "code",
   "execution_count": 7,
   "id": "24dc150b-fb26-44ca-9d5c-2c68a20195b4",
   "metadata": {
    "tags": []
   },
   "outputs": [],
   "source": [
    "# initialize the parameters\n",
    "gamma = 0.75 # discount factor\n",
    "alpha = 0.9  # learning rate"
   ]
  },
  {
   "cell_type": "markdown",
   "id": "54677f9d-93f7-4b7e-8b6d-776a457323b1",
   "metadata": {
    "tags": []
   },
   "source": [
    "### Define agent and its attributes"
   ]
  },
  {
   "cell_type": "markdown",
   "id": "2e7ecb2a-d266-4220-8007-52363fc77c23",
   "metadata": {},
   "source": [
    "### Modified the agent to add an exploration rate:"
   ]
  },
  {
   "cell_type": "code",
   "execution_count": 55,
   "id": "bd20430e-7751-41a8-aa53-fd8a619ea890",
   "metadata": {
    "tags": []
   },
   "outputs": [],
   "source": [
    "class QAgent():\n",
    "    # initialize everything\n",
    "    def __init__(self, alpha, gamma, location_to_state, actions, rewards, state_to_location,\n",
    "                exploration_rate, max_exploration_rate, min_exploration_rate, exploration_decay_rate):\n",
    "        self.gamma = gamma\n",
    "        self.alpha = alpha\n",
    "        \n",
    "        self.location_to_state = location_to_state\n",
    "        self.actions = actions\n",
    "        self.rewards = rewards\n",
    "        self.state_to_location = state_to_location\n",
    "        self.exploration_rate = exploration_rate\n",
    "        self.max_exploration_rate = max_exploration_rate \n",
    "        self.min_exploration_rate = min_exploration_rate\n",
    "        self.exploration_decay_rate = exploration_decay_rate\n",
    "        \n",
    "        # remember, the Q-value table is of size all actions x all states\n",
    "        M = len(location_to_state)\n",
    "        self.Q = np.zeros((M,M), dtype = None, order = 'C')\n",
    "        \n",
    "    # now, implement the training method for the agent\n",
    "    def training(self, start_location, end_location, iterations):\n",
    "\n",
    "        rewards_new = np.copy(self.rewards)\n",
    "\n",
    "        ending_state = self.location_to_state[end_location]\n",
    "        \n",
    "        # recreate the rewards table, so the beginning and ending state/action pair is marked\n",
    "        rewards_new[ending_state, ending_state] = 999\n",
    "        print(rewards_new)\n",
    "        sns.heatmap(pd.DataFrame(rewards_new, index=location_to_state.keys()), annot=True, linewidth=0.5, linecolor=\"black\", norm=LogNorm());\n",
    "        plt.show()\n",
    "\n",
    "        # pick random current state\n",
    "        # iterations = the # of training cycles\n",
    "        for i in range(iterations):\n",
    "            # this is the current state\n",
    "            current_state = np.random.randint(0,9)\n",
    "            playable_actions = []\n",
    "            # iterate thru the rewards matrix to get states\n",
    "            # that are really reachable from the randomly chosen\n",
    "            # state and assign only those in a list since they are really playable\n",
    "            for j in range(9):\n",
    "            # given the current state, the only action the agent can take is ones that produce rewards\n",
    "            # there may be more than one actions that produce a reward\n",
    "                if rewards_new[current_state, j] > 0:\n",
    "                    playable_actions.append(j)\n",
    "            # choosing next random state\n",
    "            # however, make sure that playable_actions is not empty\n",
    "            if len(playable_actions) != 0:\n",
    "                # Randomly select a value from playable_actions, e.g. randomly select an action\n",
    "                # this action moves the agent to another column\n",
    "                exploration_rate_threshold = random.uniform(0, 1)\n",
    "                if exploration_rate_threshold > self.exploration_rate:\n",
    "                    temp_q = np.copy(self.Q)\n",
    "                    for non_playable in list(set(actions) - set(playable_actions)):\n",
    "                        temp_q[current_state, non_playable] = -999\n",
    "                    next_state = np.argmax(temp_q[current_state,:]) \n",
    "                else:\n",
    "                    next_state = np.random.choice(playable_actions)\n",
    "            # the action that the agent takes, also moves it to the state with the same number\n",
    "            # finding the difference in Q, often referred to as temporal difference\n",
    "            # by means of the Bellman's equation\n",
    "            TD = rewards_new[current_state, next_state] + self.gamma * self.Q[next_state, np.argmax(self.Q[next_state,])] - self.Q[current_state, next_state]\n",
    "            # combine with the learning rate\n",
    "            self.Q[current_state, next_state] += self.alpha*TD\n",
    "            # DEBUG\n",
    "            #print(f\"Q[{current_state}, {next_state}]:\", self.Q[current_state, next_state])\n",
    "            self.exploration_rate = self.min_exploration_rate + (self.max_exploration_rate - self.min_exploration_rate) * np.exp(-self.exploration_decay_rate*i)\n",
    "\n",
    "        route = [start_location]\n",
    "        next_location = start_location\n",
    "        \n",
    "        print('Q-table:')\n",
    "        display(pd.DataFrame(self.Q, index=self.location_to_state.keys()))\n",
    "        \n",
    "        # print the optimal route from start to end\n",
    "        self.get_optimal_route(start_location, end_location, next_location, route, self.Q)\n",
    "\n",
    "    # compute the optimal route\n",
    "    def get_optimal_route(self, start_location, end_location, next_location, route, Q):\n",
    "        i = 0\n",
    "        while i < 20 and (next_location != end_location):\n",
    "            starting_state = self.location_to_state[start_location]\n",
    "            next_state = np.argmax(Q[starting_state,:])\n",
    "            next_location = self.state_to_location[next_state]\n",
    "            route.append((np.argmax(Q[starting_state,:]), next_location))\n",
    "            start_location = next_location\n",
    "            i+=1\n",
    "        # DEBUG\n",
    "        print(\"optimal route:\", route)"
   ]
  },
  {
   "cell_type": "markdown",
   "id": "13afb7a5-7c98-4a36-a937-7587e78a3133",
   "metadata": {},
   "source": [
    "With no exploitation, only exploring, (decay rate of 0) it can learn the optimal path, by exploring all of the possibilities:"
   ]
  },
  {
   "cell_type": "code",
   "execution_count": 68,
   "id": "bcc91457-fab1-4c03-b6bc-d6537300899f",
   "metadata": {
    "tags": []
   },
   "outputs": [
    {
     "name": "stdout",
     "output_type": "stream",
     "text": [
      "[[999   1   0   0   0   0   0   0   0]\n",
      " [  1   0   1   0   1   0   0   0   0]\n",
      " [  0   1   0   0   0   1   0   0   0]\n",
      " [  0   0   0   0   0   0   1   0   0]\n",
      " [  0   1   0   0   0   0   0   1   0]\n",
      " [  0   0   1   0   0   0   0   0   0]\n",
      " [  0   0   0   1   0   0   0   1   0]\n",
      " [  0   0   0   0   1   0   1   0   1]\n",
      " [  0   0   0   0   0   0   0   1   0]]\n"
     ]
    },
    {
     "data": {
      "image/png": "[encoded data removed]",
      "text/plain": [
       "<Figure size 432x288 with 2 Axes>"
      ]
     },
     "metadata": {
      "needs_background": "light"
     },
     "output_type": "display_data"
    },
    {
     "name": "stdout",
     "output_type": "stream",
     "text": [
      "Q-table:\n"
     ]
    },
    {
     "data": {
      "text/html": [
       "<div>\n",
       "<style scoped>\n",
       "    .dataframe tbody tr th:only-of-type {\n",
       "        vertical-align: middle;\n",
       "    }\n",
       "\n",
       "    .dataframe tbody tr th {\n",
       "        vertical-align: top;\n",
       "    }\n",
       "\n",
       "    .dataframe thead th {\n",
       "        text-align: right;\n",
       "    }\n",
       "</style>\n",
       "<table border=\"1\" class=\"dataframe\">\n",
       "  <thead>\n",
       "    <tr style=\"text-align: right;\">\n",
       "      <th></th>\n",
       "      <th>0</th>\n",
       "      <th>1</th>\n",
       "      <th>2</th>\n",
       "      <th>3</th>\n",
       "      <th>4</th>\n",
       "      <th>5</th>\n",
       "      <th>6</th>\n",
       "      <th>7</th>\n",
       "      <th>8</th>\n",
       "    </tr>\n",
       "  </thead>\n",
       "  <tbody>\n",
       "    <tr>\n",
       "      <th>L0</th>\n",
       "      <td>3995.998042</td>\n",
       "      <td>2249.498313</td>\n",
       "      <td>0.000000</td>\n",
       "      <td>0.000000</td>\n",
       "      <td>0.000000</td>\n",
       "      <td>0.000000</td>\n",
       "      <td>0.000000</td>\n",
       "      <td>0.000000</td>\n",
       "      <td>0.000000</td>\n",
       "    </tr>\n",
       "    <tr>\n",
       "      <th>L1</th>\n",
       "      <td>2997.998091</td>\n",
       "      <td>0.000000</td>\n",
       "      <td>1688.118603</td>\n",
       "      <td>0.000000</td>\n",
       "      <td>1688.118556</td>\n",
       "      <td>0.000000</td>\n",
       "      <td>0.000000</td>\n",
       "      <td>0.000000</td>\n",
       "      <td>0.000000</td>\n",
       "    </tr>\n",
       "    <tr>\n",
       "      <th>L2</th>\n",
       "      <td>0.000000</td>\n",
       "      <td>2249.491471</td>\n",
       "      <td>0.000000</td>\n",
       "      <td>0.000000</td>\n",
       "      <td>0.000000</td>\n",
       "      <td>1267.088941</td>\n",
       "      <td>0.000000</td>\n",
       "      <td>0.000000</td>\n",
       "      <td>0.000000</td>\n",
       "    </tr>\n",
       "    <tr>\n",
       "      <th>L3</th>\n",
       "      <td>0.000000</td>\n",
       "      <td>0.000000</td>\n",
       "      <td>0.000000</td>\n",
       "      <td>0.000000</td>\n",
       "      <td>0.000000</td>\n",
       "      <td>0.000000</td>\n",
       "      <td>951.316489</td>\n",
       "      <td>0.000000</td>\n",
       "      <td>0.000000</td>\n",
       "    </tr>\n",
       "    <tr>\n",
       "      <th>L4</th>\n",
       "      <td>0.000000</td>\n",
       "      <td>2249.491471</td>\n",
       "      <td>0.000000</td>\n",
       "      <td>0.000000</td>\n",
       "      <td>0.000000</td>\n",
       "      <td>0.000000</td>\n",
       "      <td>0.000000</td>\n",
       "      <td>1267.088847</td>\n",
       "      <td>0.000000</td>\n",
       "    </tr>\n",
       "    <tr>\n",
       "      <th>L5</th>\n",
       "      <td>0.000000</td>\n",
       "      <td>0.000000</td>\n",
       "      <td>1688.118603</td>\n",
       "      <td>0.000000</td>\n",
       "      <td>0.000000</td>\n",
       "      <td>0.000000</td>\n",
       "      <td>0.000000</td>\n",
       "      <td>0.000000</td>\n",
       "      <td>0.000000</td>\n",
       "    </tr>\n",
       "    <tr>\n",
       "      <th>L6</th>\n",
       "      <td>0.000000</td>\n",
       "      <td>0.000000</td>\n",
       "      <td>0.000000</td>\n",
       "      <td>714.480345</td>\n",
       "      <td>0.000000</td>\n",
       "      <td>0.000000</td>\n",
       "      <td>0.000000</td>\n",
       "      <td>1267.088745</td>\n",
       "      <td>0.000000</td>\n",
       "    </tr>\n",
       "    <tr>\n",
       "      <th>L7</th>\n",
       "      <td>0.000000</td>\n",
       "      <td>0.000000</td>\n",
       "      <td>0.000000</td>\n",
       "      <td>0.000000</td>\n",
       "      <td>1688.118465</td>\n",
       "      <td>0.000000</td>\n",
       "      <td>951.316402</td>\n",
       "      <td>0.000000</td>\n",
       "      <td>951.316486</td>\n",
       "    </tr>\n",
       "    <tr>\n",
       "      <th>L8</th>\n",
       "      <td>0.000000</td>\n",
       "      <td>0.000000</td>\n",
       "      <td>0.000000</td>\n",
       "      <td>0.000000</td>\n",
       "      <td>0.000000</td>\n",
       "      <td>0.000000</td>\n",
       "      <td>0.000000</td>\n",
       "      <td>1267.088840</td>\n",
       "      <td>0.000000</td>\n",
       "    </tr>\n",
       "  </tbody>\n",
       "</table>\n",
       "</div>"
      ],
      "text/plain": [
       "              0            1            2           3            4  \\\n",
       "L0  3995.998042  2249.498313     0.000000    0.000000     0.000000   \n",
       "L1  2997.998091     0.000000  1688.118603    0.000000  1688.118556   \n",
       "L2     0.000000  2249.491471     0.000000    0.000000     0.000000   \n",
       "L3     0.000000     0.000000     0.000000    0.000000     0.000000   \n",
       "L4     0.000000  2249.491471     0.000000    0.000000     0.000000   \n",
       "L5     0.000000     0.000000  1688.118603    0.000000     0.000000   \n",
       "L6     0.000000     0.000000     0.000000  714.480345     0.000000   \n",
       "L7     0.000000     0.000000     0.000000    0.000000  1688.118465   \n",
       "L8     0.000000     0.000000     0.000000    0.000000     0.000000   \n",
       "\n",
       "              5           6            7           8  \n",
       "L0     0.000000    0.000000     0.000000    0.000000  \n",
       "L1     0.000000    0.000000     0.000000    0.000000  \n",
       "L2  1267.088941    0.000000     0.000000    0.000000  \n",
       "L3     0.000000  951.316489     0.000000    0.000000  \n",
       "L4     0.000000    0.000000  1267.088847    0.000000  \n",
       "L5     0.000000    0.000000     0.000000    0.000000  \n",
       "L6     0.000000    0.000000  1267.088745    0.000000  \n",
       "L7     0.000000  951.316402     0.000000  951.316486  \n",
       "L8     0.000000    0.000000  1267.088840    0.000000  "
      ]
     },
     "metadata": {},
     "output_type": "display_data"
    },
    {
     "name": "stdout",
     "output_type": "stream",
     "text": [
      "optimal route: ['L8', (7, 'L7'), (4, 'L4'), (1, 'L1'), (0, 'L0')]\n"
     ]
    }
   ],
   "source": [
    "exploration_rate = 1\n",
    "max_exploration_rate = 1\n",
    "min_exploration_rate = 0.01\n",
    "exploration_decay_rate = 0\n",
    "gamma = 0.75 # discount factor\n",
    "alpha = 0.9  # learning rate\n",
    "qagent = QAgent(alpha, gamma, location_to_state, actions, rewards, state_to_location, exploration_rate, max_exploration_rate, min_exploration_rate, exploration_decay_rate)\n",
    "qagent.training(start_location='L8', end_location='L0', iterations=1000)"
   ]
  },
  {
   "cell_type": "markdown",
   "id": "ad7efb3a-b701-4d50-9a19-48aef548e29e",
   "metadata": {},
   "source": [
    "**If the agent starts exploiting too early, and it never learns how to reach the highest 999 reward in the top left**, it gets stuck in a local minimum, of just picking up +1 rewards, by alternating from moving to state 8 and state 7!"
   ]
  },
  {
   "cell_type": "code",
   "execution_count": 60,
   "id": "cefcaeec-aeb8-49ad-991b-fdb9c080f203",
   "metadata": {
    "tags": []
   },
   "outputs": [
    {
     "name": "stdout",
     "output_type": "stream",
     "text": [
      "[[999   1   0   0   0   0   0   0   0]\n",
      " [  1   0   1   0   1   0   0   0   0]\n",
      " [  0   1   0   0   0   1   0   0   0]\n",
      " [  0   0   0   0   0   0   1   0   0]\n",
      " [  0   1   0   0   0   0   0   1   0]\n",
      " [  0   0   1   0   0   0   0   0   0]\n",
      " [  0   0   0   1   0   0   0   1   0]\n",
      " [  0   0   0   0   1   0   1   0   1]\n",
      " [  0   0   0   0   0   0   0   1   0]]\n"
     ]
    },
    {
     "data": {
      "image/png": "[encoded data removed]",
      "text/plain": [
       "<Figure size 432x288 with 2 Axes>"
      ]
     },
     "metadata": {
      "needs_background": "light"
     },
     "output_type": "display_data"
    },
    {
     "name": "stdout",
     "output_type": "stream",
     "text": [
      "Q-table:\n"
     ]
    },
    {
     "data": {
      "text/html": [
       "<div>\n",
       "<style scoped>\n",
       "    .dataframe tbody tr th:only-of-type {\n",
       "        vertical-align: middle;\n",
       "    }\n",
       "\n",
       "    .dataframe tbody tr th {\n",
       "        vertical-align: top;\n",
       "    }\n",
       "\n",
       "    .dataframe thead th {\n",
       "        text-align: right;\n",
       "    }\n",
       "</style>\n",
       "<table border=\"1\" class=\"dataframe\">\n",
       "  <thead>\n",
       "    <tr style=\"text-align: right;\">\n",
       "      <th></th>\n",
       "      <th>0</th>\n",
       "      <th>1</th>\n",
       "      <th>2</th>\n",
       "      <th>3</th>\n",
       "      <th>4</th>\n",
       "      <th>5</th>\n",
       "      <th>6</th>\n",
       "      <th>7</th>\n",
       "      <th>8</th>\n",
       "    </tr>\n",
       "  </thead>\n",
       "  <tbody>\n",
       "    <tr>\n",
       "      <th>L0</th>\n",
       "      <td>0.000000</td>\n",
       "      <td>4.000000</td>\n",
       "      <td>0.0</td>\n",
       "      <td>0.0</td>\n",
       "      <td>0.0</td>\n",
       "      <td>0.0</td>\n",
       "      <td>0.0</td>\n",
       "      <td>0.0</td>\n",
       "      <td>0.0</td>\n",
       "    </tr>\n",
       "    <tr>\n",
       "      <th>L1</th>\n",
       "      <td>3.599999</td>\n",
       "      <td>0.000000</td>\n",
       "      <td>4.0</td>\n",
       "      <td>0.0</td>\n",
       "      <td>0.9</td>\n",
       "      <td>0.0</td>\n",
       "      <td>0.0</td>\n",
       "      <td>0.0</td>\n",
       "      <td>0.0</td>\n",
       "    </tr>\n",
       "    <tr>\n",
       "      <th>L2</th>\n",
       "      <td>0.000000</td>\n",
       "      <td>1.673325</td>\n",
       "      <td>0.0</td>\n",
       "      <td>0.0</td>\n",
       "      <td>0.0</td>\n",
       "      <td>4.0</td>\n",
       "      <td>0.0</td>\n",
       "      <td>0.0</td>\n",
       "      <td>0.0</td>\n",
       "    </tr>\n",
       "    <tr>\n",
       "      <th>L3</th>\n",
       "      <td>0.000000</td>\n",
       "      <td>0.000000</td>\n",
       "      <td>0.0</td>\n",
       "      <td>0.0</td>\n",
       "      <td>0.0</td>\n",
       "      <td>0.0</td>\n",
       "      <td>4.0</td>\n",
       "      <td>0.0</td>\n",
       "      <td>0.0</td>\n",
       "    </tr>\n",
       "    <tr>\n",
       "      <th>L4</th>\n",
       "      <td>0.000000</td>\n",
       "      <td>4.000000</td>\n",
       "      <td>0.0</td>\n",
       "      <td>0.0</td>\n",
       "      <td>0.0</td>\n",
       "      <td>0.0</td>\n",
       "      <td>0.0</td>\n",
       "      <td>0.0</td>\n",
       "      <td>0.0</td>\n",
       "    </tr>\n",
       "    <tr>\n",
       "      <th>L5</th>\n",
       "      <td>0.000000</td>\n",
       "      <td>0.000000</td>\n",
       "      <td>4.0</td>\n",
       "      <td>0.0</td>\n",
       "      <td>0.0</td>\n",
       "      <td>0.0</td>\n",
       "      <td>0.0</td>\n",
       "      <td>0.0</td>\n",
       "      <td>0.0</td>\n",
       "    </tr>\n",
       "    <tr>\n",
       "      <th>L6</th>\n",
       "      <td>0.000000</td>\n",
       "      <td>0.000000</td>\n",
       "      <td>0.0</td>\n",
       "      <td>4.0</td>\n",
       "      <td>0.0</td>\n",
       "      <td>0.0</td>\n",
       "      <td>0.0</td>\n",
       "      <td>0.0</td>\n",
       "      <td>0.0</td>\n",
       "    </tr>\n",
       "    <tr>\n",
       "      <th>L7</th>\n",
       "      <td>0.000000</td>\n",
       "      <td>0.000000</td>\n",
       "      <td>0.0</td>\n",
       "      <td>0.0</td>\n",
       "      <td>0.0</td>\n",
       "      <td>0.0</td>\n",
       "      <td>0.9</td>\n",
       "      <td>0.0</td>\n",
       "      <td>4.0</td>\n",
       "    </tr>\n",
       "    <tr>\n",
       "      <th>L8</th>\n",
       "      <td>0.000000</td>\n",
       "      <td>0.000000</td>\n",
       "      <td>0.0</td>\n",
       "      <td>0.0</td>\n",
       "      <td>0.0</td>\n",
       "      <td>0.0</td>\n",
       "      <td>0.0</td>\n",
       "      <td>4.0</td>\n",
       "      <td>0.0</td>\n",
       "    </tr>\n",
       "  </tbody>\n",
       "</table>\n",
       "</div>"
      ],
      "text/plain": [
       "           0         1    2    3    4    5    6    7    8\n",
       "L0  0.000000  4.000000  0.0  0.0  0.0  0.0  0.0  0.0  0.0\n",
       "L1  3.599999  0.000000  4.0  0.0  0.9  0.0  0.0  0.0  0.0\n",
       "L2  0.000000  1.673325  0.0  0.0  0.0  4.0  0.0  0.0  0.0\n",
       "L3  0.000000  0.000000  0.0  0.0  0.0  0.0  4.0  0.0  0.0\n",
       "L4  0.000000  4.000000  0.0  0.0  0.0  0.0  0.0  0.0  0.0\n",
       "L5  0.000000  0.000000  4.0  0.0  0.0  0.0  0.0  0.0  0.0\n",
       "L6  0.000000  0.000000  0.0  4.0  0.0  0.0  0.0  0.0  0.0\n",
       "L7  0.000000  0.000000  0.0  0.0  0.0  0.0  0.9  0.0  4.0\n",
       "L8  0.000000  0.000000  0.0  0.0  0.0  0.0  0.0  4.0  0.0"
      ]
     },
     "metadata": {},
     "output_type": "display_data"
    },
    {
     "name": "stdout",
     "output_type": "stream",
     "text": [
      "optimal route: ['L8', (7, 'L7'), (8, 'L8'), (7, 'L7'), (8, 'L8'), (7, 'L7'), (8, 'L8'), (7, 'L7'), (8, 'L8'), (7, 'L7'), (8, 'L8'), (7, 'L7'), (8, 'L8'), (7, 'L7'), (8, 'L8'), (7, 'L7'), (8, 'L8'), (7, 'L7'), (8, 'L8'), (7, 'L7'), (8, 'L8')]\n"
     ]
    }
   ],
   "source": [
    "exploration_rate = 1\n",
    "max_exploration_rate = 0.7 # LOW STARTING EXPLORATION RATE\n",
    "min_exploration_rate = 0.01\n",
    "exploration_decay_rate = 0.1 # HIGH DECAY RATE OF 0.1\n",
    "gamma = 0.75 # discount factor\n",
    "alpha = 0.9  # learning rate\n",
    "qagent = QAgent(alpha, gamma, location_to_state, actions, rewards, state_to_location, exploration_rate, max_exploration_rate, min_exploration_rate, exploration_decay_rate)\n",
    "qagent.training(start_location='L8', end_location='L0', iterations=1000)"
   ]
  }
 ],
 "metadata": {
  "kernelspec": {
   "display_name": "Python 3 (ipykernel)",
   "language": "python",
   "name": "python3"
  },
  "language_info": {
   "codemirror_mode": {
    "name": "ipython",
    "version": 3
   },
   "file_extension": ".py",
   "mimetype": "text/x-python",
   "name": "python",
   "nbconvert_exporter": "python",
   "pygments_lexer": "ipython3",
   "version": "3.9.12"
  }
 },
 "nbformat": 4,
 "nbformat_minor": 5
}
